{
 "cells": [
  {
   "cell_type": "markdown",
   "id": "14972f92-68dc-485e-b7a9-ea774596f7a4",
   "metadata": {},
   "source": [
    "# Test notebook\n",
    "This notebook should be executed by `myst build --execute`. Ideally, the Jupyter server that gets spawned should terminate after the build completes successfully."
   ]
  },
  {
   "cell_type": "code",
   "execution_count": 1,
   "id": "914db7b5-8ca0-4cf5-8ced-66da7398a0c1",
   "metadata": {},
   "outputs": [
    {
     "name": "stdout",
     "output_type": "stream",
     "text": [
      "Demo Oh No\n"
     ]
    }
   ],
   "source": [
    "print (\"Demo Oh No\")"
   ]
  }
 ],
 "metadata": {
  "kernelspec": {
   "display_name": "Python 3 (ipykernel)",
   "language": "python",
   "name": "python3"
  },
  "language_info": {
   "codemirror_mode": {
    "name": "ipython",
    "version": 3
   },
   "file_extension": ".py",
   "mimetype": "text/x-python",
   "name": "python",
   "nbconvert_exporter": "python",
   "pygments_lexer": "ipython3",
   "version": "3.13.5"
  }
 },
 "nbformat": 4,
 "nbformat_minor": 5
}
